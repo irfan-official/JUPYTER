{
 "cells": [
  {
   "cell_type": "code",
   "execution_count": null,
   "metadata": {},
   "outputs": [],
   "source": []
  },
  {
   "cell_type": "markdown",
   "metadata": {},
   "source": [
    "# 1. Python Data types\n",
    "---"
   ]
  },
  {
   "cell_type": "code",
   "execution_count": null,
   "metadata": {},
   "outputs": [],
   "source": [
    "# text type String\n",
    "str = \"irfan\" # String\n",
    "\n",
    "# Numeric type\n",
    "int_ = 10 # int\n",
    "float_ = 10.10 # float\n",
    "complex_ = 2 + 3j # complex\n",
    "print(complex_)\n",
    "\n",
    "# sequence type\n",
    "list_ = [1,2,3] #list\n",
    "touple_ = (1,2,3) # touple is not erasable\n",
    "range_ = range(10)\n",
    "\n",
    "# Mapping type\n",
    "dist_ = {\"name\": \"irfan\", \"age\" : 10}\n",
    "\n",
    "# list of dists\n",
    "data = [{\"name\": \"Nusaiba\", \"age\": 7}, {\"name\": \"Irfan\", \"age\": 23}]\n",
    "print(data)\n",
    "\n",
    "# set type\n",
    "set_ = {1,2,4,1} # store unique vale\n",
    "print(set_)\n",
    "\n",
    "# Boolean type\n",
    "bool_ = True\n",
    "print(bool_)\n",
    "\n",
    "# None type\n",
    "none_ = None\n",
    "\n",
    "print(none_)"
   ]
  },
  {
   "cell_type": "code",
   "execution_count": null,
   "metadata": {},
   "outputs": [],
   "source": [
    "# for loop\n",
    "for _ in range(10):\n",
    "  print(\"one\")"
   ]
  },
  {
   "cell_type": "code",
   "execution_count": 11,
   "metadata": {},
   "outputs": [
    {
     "name": "stdout",
     "output_type": "stream",
     "text": [
      "{'name': 'irfan', 'age': 10}\n"
     ]
    }
   ],
   "source": [
    "# function test\n",
    "\n",
    "def one():\n",
    "  print(dist_)\n",
    "\n",
    "one()"
   ]
  },
  {
   "cell_type": "code",
   "execution_count": null,
   "metadata": {},
   "outputs": [],
   "source": [
    "fruits = [\"mangoe\", \"apple\", \"banana\"]\n",
    "\n",
    "for c in fruits:\n",
    "  print(c)\n",
    "\n",
    "person = {\"name\": \"Irfan\", \"age\": 22, \"country\": \"Bangladesh\"}\n",
    "\n",
    "for key, value in person.items():\n",
    "  print(f'key = {key} && value = {value}')\n",
    "\n",
    "for i in range(0, 5):\n",
    "  print(i)\n"
   ]
  },
  {
   "cell_type": "code",
   "execution_count": null,
   "metadata": {},
   "outputs": [
    {
     "name": "stdout",
     "output_type": "stream",
     "text": [
      "hello\n"
     ]
    }
   ],
   "source": [
    "num = 10\n",
    "if(num > 10):\n",
    "  print(num)\n",
    "elif(num >1):\n",
    "  print(\"hello\")\n",
    "  pass"
   ]
  },
  {
   "cell_type": "code",
   "execution_count": null,
   "metadata": {},
   "outputs": [],
   "source": [
    "person = {\"name\": \"Irfan\", \"age\": 22, \"country\": \"Bangladesh\"}\n",
    "data = [{\"name\": \"Nusaiba\", \"age\": 7}, {\"name\": \"Irfan\", \"age\": 23}, {\"name\": \"Nusaiba\", \"age\": 19}]\n",
    "print(len(data))\n",
    "data.append({\"name\": \"hiitesh\", \"age\": 19})\n",
    "print(data)\n",
    "print(len(data))"
   ]
  },
  {
   "cell_type": "markdown",
   "metadata": {},
   "source": [
    "# 2. Data visualization\n",
    "---"
   ]
  },
  {
   "cell_type": "code",
   "execution_count": null,
   "metadata": {},
   "outputs": [],
   "source": [
    "import matplotlib.pyplot as plt\n",
    "import numpy as np\n",
    "import random\n",
    "\n",
    "x = random.sample(range(1,100), 10)\n",
    "y = random.sample(range(1,100), 10)\n",
    "\n",
    "plt.plot(x, y, label=\"Bangladesh\", color=\"red\")\n",
    "plt.show()"
   ]
  },
  {
   "cell_type": "code",
   "execution_count": null,
   "metadata": {},
   "outputs": [],
   "source": [
    "import matplotlib.pyplot as plt\n",
    "import numpy as np\n",
    "import random\n",
    "\n",
    "data_bd = {\n",
    "    \"Country\": [\"Bangladesh\"] * 10,\n",
    "    \"Year\": [1900, 1910, 1920, 1930, 1940, 1950, 1960, 1970, 1980, 1990],\n",
    "    \"Population\": [2000000, 3500000, 4500000, 6000000, 7000000, 8000000, 9000000, 11000000, 12000000, 13500000]\n",
    "}\n",
    "\n",
    "data_china = {  # Fixed \"Chaina\" to \"China\"\n",
    "    \"Country\": [\"China\"] * 10,\n",
    "    \"Year\": [1900, 1910, 1920, 1930, 1940, 1950, 1960, 1970, 1980, 1990],\n",
    "    \"Population\": [4000000, 5500000, 6500000, 7000000, 8000000, 9000000, 10000000, 12000000, 13000000, 14000000]\n",
    "}\n",
    "\n",
    "x = data_bd[\"Year\"]\n",
    "xD = data_china[\"Year\"]\n",
    "\n",
    "y = data_bd[\"Population\"]\n",
    "yD = data_china[\"Population\"]\n",
    "\n",
    "plt.plot(x,y, label=\"Bangladesh\", color=\"red\", linestyle='--')\n",
    "plt.plot(xD,yD, label=\"Chaina\", color=\"blue\", linestyle=\"-\")\n",
    "plt.xlabel(\"Year\")\n",
    "plt.ylabel(\"Population\")\n",
    "plt.title(\"Population growth in Bangladesh and China\")\n",
    "plt.legend()\n",
    "plt.show()"
   ]
  },
  {
   "cell_type": "markdown",
   "metadata": {},
   "source": [
    "# 3. play with random package\n",
    "---"
   ]
  },
  {
   "cell_type": "code",
   "execution_count": 40,
   "metadata": {},
   "outputs": [
    {
     "name": "stdout",
     "output_type": "stream",
     "text": [
      "11\n",
      "11.162090526846738\n",
      "[1, 2, 3, 4, 5, 6, 7, 8, 9, 10, 11, 12, 13, 14, 15, 16, 17, 18, 19, 20]\n"
     ]
    }
   ],
   "source": [
    "import random\n",
    "\n",
    "x = random.uniform(1,100)\n",
    "print(int(x))\n",
    "print(x)\n",
    "\n",
    "num = random.sample(range(1,21),20)\n",
    "num.sort()\n",
    "print(num)\n",
    "\n"
   ]
  },
  {
   "cell_type": "markdown",
   "metadata": {},
   "source": [
    "# 4. Import a csv file and do some crud operation\n",
    "---"
   ]
  },
  {
   "cell_type": "code",
   "execution_count": null,
   "metadata": {},
   "outputs": [
    {
     "name": "stdout",
     "output_type": "stream",
     "text": [
      "     Number of times pregnant  \\\n",
      "0                           6   \n",
      "1                           1   \n",
      "2                           8   \n",
      "3                           1   \n",
      "4                           0   \n",
      "..                        ...   \n",
      "763                        10   \n",
      "764                         2   \n",
      "765                         5   \n",
      "766                         1   \n",
      "767                         1   \n",
      "\n",
      "     Plasma glucose concentration a 2 hours in an oral glucose tolerance test  \\\n",
      "0                                                  148                          \n",
      "1                                                   85                          \n",
      "2                                                  183                          \n",
      "3                                                   89                          \n",
      "4                                                  137                          \n",
      "..                                                 ...                          \n",
      "763                                                101                          \n",
      "764                                                122                          \n",
      "765                                                121                          \n",
      "766                                                126                          \n",
      "767                                                 93                          \n",
      "\n",
      "     Diastolic blood pressure (mm Hg)  Triceps skin fold thickness (mm)  \\\n",
      "0                                  72                                35   \n",
      "1                                  66                                29   \n",
      "2                                  64                                 0   \n",
      "3                                  66                                23   \n",
      "4                                  40                                35   \n",
      "..                                ...                               ...   \n",
      "763                                76                                48   \n",
      "764                                70                                27   \n",
      "765                                72                                23   \n",
      "766                                60                                 0   \n",
      "767                                70                                31   \n",
      "\n",
      "     2-Hour serum insulin (mu U/ml)  \\\n",
      "0                                 0   \n",
      "1                                 0   \n",
      "2                                 0   \n",
      "3                                94   \n",
      "4                               168   \n",
      "..                              ...   \n",
      "763                             180   \n",
      "764                               0   \n",
      "765                             112   \n",
      "766                               0   \n",
      "767                               0   \n",
      "\n",
      "     Body mass index (weight in kg/(height in m)^2)  \\\n",
      "0                                              33.6   \n",
      "1                                              26.6   \n",
      "2                                              23.3   \n",
      "3                                              28.1   \n",
      "4                                              43.1   \n",
      "..                                              ...   \n",
      "763                                            32.9   \n",
      "764                                            36.8   \n",
      "765                                            26.2   \n",
      "766                                            30.1   \n",
      "767                                            30.4   \n",
      "\n",
      "     Diabetes pedigree function  Age  Outcome  \n",
      "0                         0.627   50      NaN  \n",
      "1                         0.351   31      0.0  \n",
      "2                         0.672   32      1.0  \n",
      "3                         0.167   21      0.0  \n",
      "4                         2.288   33      1.0  \n",
      "..                          ...  ...      ...  \n",
      "763                       0.171   63      0.0  \n",
      "764                       0.340   27      0.0  \n",
      "765                       0.245   30      0.0  \n",
      "766                       0.349   47      1.0  \n",
      "767                       0.315   23      0.0  \n",
      "\n",
      "[768 rows x 9 columns]\n"
     ]
    }
   ],
   "source": [
    "# import hospital data\n",
    "\n",
    "import pandas as pd\n",
    "import random\n",
    "df = pd.read_csv(\"./Lab_5/Lab_5/pima-indians-diabetes.csv\")\n",
    "\n",
    "# df[\"irfan\"] = np.random.randint(30, 100, size=768)\n",
    "# print(df)\n",
    "\n",
    "new_drop_column = df.drop(columns=['Number of times pregnant'])\n",
    "print(new_drop_column)"
   ]
  }
 ],
 "metadata": {
  "kernelspec": {
   "display_name": "Python 3",
   "language": "python",
   "name": "python3"
  },
  "language_info": {
   "codemirror_mode": {
    "name": "ipython",
    "version": 3
   },
   "file_extension": ".py",
   "mimetype": "text/x-python",
   "name": "python",
   "nbconvert_exporter": "python",
   "pygments_lexer": "ipython3",
   "version": "3.12.9"
  }
 },
 "nbformat": 4,
 "nbformat_minor": 2
}
