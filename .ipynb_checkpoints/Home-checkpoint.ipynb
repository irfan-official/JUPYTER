{
 "cells": [
  {
   "cell_type": "code",
   "execution_count": 9,
   "id": "b6da36d9",
   "metadata": {},
   "outputs": [
    {
     "name": "stdout",
     "output_type": "stream",
     "text": [
      "0      6\n",
      "1      1\n",
      "2      8\n",
      "3      1\n",
      "4      0\n",
      "      ..\n",
      "764    2\n",
      "765    5\n",
      "766    1\n",
      "767    1\n",
      "768    2\n",
      "Name: Number of times pregnant, Length: 769, dtype: int64\n"
     ]
    }
   ],
   "source": [
    "## import and show a csv file\n",
    "import pandas as pd\n",
    "import random \n",
    "import numpy as np\n",
    "\n",
    "## Task - 1 Read CSV file\n",
    "df = pd.read_csv(\"pima-indians-diabetes.csv\")\n",
    "\n",
    "## Task - 2 Describe\n",
    "# print(df.describe())\n",
    "\n",
    "## Task - 3.1 Tail\n",
    "# print(df.tail(20))\n",
    "\n",
    "## Task - 3.2 Head\n",
    "# print(df.head(20)) \n",
    "\n",
    "## Task - 4 Missing value handling\n",
    "# 1. Dropping rows with missing values\n",
    "# df_cleaned = df.dropna()\n",
    "# print(df_cleaned)\n",
    "\n",
    "## missing value handling with mean vale\n",
    "mean_df = df.fillna(df.mean())\n",
    "\n",
    "# print(mean_df.head())\n",
    "\n",
    "\n",
    "\n",
    "## Task - 5.1 drop a clomn\n",
    "new_drop_column = df.drop(columns=['Number of times pregnant'])\n",
    "\n",
    "# print(new_drop_column)\n",
    "\n",
    "## Task - 5.2 drop a row\n",
    "new_drop_row = df.drop(index=1)\n",
    "# print(new_drop_row.head())\n",
    "\n",
    "## - 5.3 Adding a cloumn\n",
    "df[\"Height\"] = np.random.randint(10, 100, size=768);\n",
    "df[\"Weight\"] = np.random.randint(20, 200, size=768);\n",
    "# print(df.head(50))\n",
    "\n",
    "new_row = {\"Number of times pregnant\": 2,\n",
    "\"Plasma glucose concentration a 2 hours in an oral glucose tolerance test\": 2, \"Diastolic blood pressure (mm Hg)\" : 3, \"Triceps skin fold thickness (mm)\": 4, \"2-Hour serum insulin (mu U/ml)\" : 5, \"Body mass index (weight in kg/(height in m)^2)\": 6, \"Diabetes pedigree function\" : 7, \"Age\": 8, \"Outcome\": 10}\n",
    "\n",
    "\n",
    "df.loc[len(df)] = new_row\n",
    "\n",
    "# print(df.tail())\n",
    "\n",
    "## - 5.3 Adding a row\n",
    "\n",
    "# print(df.tail())\n",
    "\n",
    "\n",
    "\n",
    "\n",
    "\n",
    "# print(df.describe())\n",
    "\n",
    "\n",
    "## Task - 6.1 Extarct a Row\n",
    "\n",
    "row = df.iloc[10] # 10 is the row index\n",
    "\n",
    "# print(row)\n",
    "\n",
    "## Task - 6.2 Extract a column\n",
    "\n",
    "column = df['Number of times pregnant']\n",
    "\n",
    "print(column)\n"
   ]
  },
  {
   "cell_type": "code",
   "execution_count": null,
   "id": "58e01b80",
   "metadata": {},
   "outputs": [
    {
     "name": "stdout",
     "output_type": "stream",
     "text": [
      "hello\n"
     ]
    }
   ],
   "source": [
    "\n",
    "\n",
    "\n",
    "\n",
    "\n",
    "\n",
    "\n",
    "\n",
    "# print(df.head())"
   ]
  }
 ],
 "metadata": {
  "kernelspec": {
   "display_name": ".venv",
   "language": "python",
   "name": "python3"
  },
  "language_info": {
   "codemirror_mode": {
    "name": "ipython",
    "version": 3
   },
   "file_extension": ".py",
   "mimetype": "text/x-python",
   "name": "python",
   "nbconvert_exporter": "python",
   "pygments_lexer": "ipython3",
   "version": "3.12.9"
  }
 },
 "nbformat": 4,
 "nbformat_minor": 5
}
