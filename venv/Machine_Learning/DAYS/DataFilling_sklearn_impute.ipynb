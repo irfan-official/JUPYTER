{
 "cells": [
  {
   "cell_type": "code",
   "execution_count": 10,
   "metadata": {},
   "outputs": [],
   "source": [
    "import pandas as pd\n",
    "from sklearn.impute import SimpleImputer\n",
    "\n",
    "dataset = pd.read_csv(r\"../DATA/products.csv\")"
   ]
  },
  {
   "cell_type": "code",
   "execution_count": 12,
   "metadata": {},
   "outputs": [],
   "source": [
    "si = SimpleImputer(strategy=\"mean\")\n",
    "\n",
    "ar = si.fit_transform(dataset[[\"aisle_id\", \"department_id\", \"price\"]])"
   ]
  },
  {
   "cell_type": "code",
   "execution_count": null,
   "metadata": {},
   "outputs": [],
   "source": [
    "dataset_imputed = pd.DataFrame(ar, columns=numeric_columns)"
   ]
  },
  {
   "cell_type": "code",
   "execution_count": 9,
   "metadata": {},
   "outputs": [
    {
     "name": "stdout",
     "output_type": "stream",
     "text": [
      "    aisle_id  department_id      price\n",
      "0   61.00000      11.695783  12.560000\n",
      "1  104.00000      11.695783  28.860000\n",
      "2   94.00000       7.000000  25.670000\n",
      "3   68.10161       1.000000  39.600000\n",
      "4   68.10161      13.000000  27.265155\n",
      "5   11.00000      11.000000  40.040000\n",
      "6   98.00000       7.000000  24.820000\n",
      "7   68.10161       1.000000  22.460000\n",
      "8  120.00000      16.000000  17.620000\n",
      "9  115.00000      11.695783  27.265155\n"
     ]
    }
   ],
   "source": [
    "import pandas as pd\n",
    "from sklearn.impute import SimpleImputer\n",
    "\n",
    "# Load dataset\n",
    "dataset = pd.read_csv(r\"../DATA/products.csv\")\n",
    "\n",
    "# Correct column selection using double square brackets\n",
    "numeric_columns = [\"aisle_id\", \"department_id\", \"price\"]\n",
    "dataset_selected = dataset[numeric_columns]  # Selecting only these columns\n",
    "\n",
    "# Initialize Imputer with mean strategy\n",
    "si = SimpleImputer(strategy=\"mean\")\n",
    "\n",
    "# Apply Imputer to the selected numeric columns\n",
    "ar = si.fit_transform(dataset_selected)\n",
    "\n",
    "# Convert result back to DataFrame\n",
    "dataset_imputed = pd.DataFrame(ar, columns=numeric_columns)\n",
    "\n",
    "print(dataset_imputed.head(10))\n"
   ]
  },
  {
   "cell_type": "markdown",
   "metadata": {},
   "source": []
  }
 ],
 "metadata": {
  "kernelspec": {
   "display_name": "Python 3",
   "language": "python",
   "name": "python3"
  },
  "language_info": {
   "codemirror_mode": {
    "name": "ipython",
    "version": 3
   },
   "file_extension": ".py",
   "mimetype": "text/x-python",
   "name": "python",
   "nbconvert_exporter": "python",
   "pygments_lexer": "ipython3",
   "version": "3.12.9"
  }
 },
 "nbformat": 4,
 "nbformat_minor": 2
}
