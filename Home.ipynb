{
 "cells": [
  {
   "cell_type": "code",
   "execution_count": null,
   "id": "35ad1e49-75ca-4b47-aae4-f3400c941671",
   "metadata": {},
   "outputs": [],
   "source": [
    "# welcome to chai"
   ]
  },
  {
   "cell_type": "code",
   "execution_count": 3,
   "id": "0da21855",
   "metadata": {},
   "outputs": [
    {
     "name": "stdout",
     "output_type": "stream",
     "text": [
      "5\n"
     ]
    }
   ],
   "source": [
    "x = 10 if False else 5\n",
    "print(x)"
   ]
  },
  {
   "cell_type": "code",
   "execution_count": 2,
   "id": "11ca4210-bd49-4a8e-b1b0-6c4baae211f3",
   "metadata": {},
   "outputs": [
    {
     "name": "stdout",
     "output_type": "stream",
     "text": [
      "Hello irfans.dev\n"
     ]
    }
   ],
   "source": [
    "print(\"Hello irfans.dev\")"
   ]
  },
  {
   "cell_type": "code",
   "execution_count": 1,
   "id": "74054f8c",
   "metadata": {},
   "outputs": [
    {
     "name": "stdout",
     "output_type": "stream",
     "text": [
      "Hello chaicode with python and VS code\n"
     ]
    }
   ],
   "source": [
    "print(\"Hello chaicode with python and VS code\")"
   ]
  },
  {
   "cell_type": "code",
   "execution_count": 5,
   "id": "3b5e3d0b-b905-4b21-9b39-6ee28208c0d9",
   "metadata": {},
   "outputs": [],
   "source": [
    "import pandas as np"
   ]
  },
  {
   "cell_type": "code",
   "execution_count": 6,
   "id": "4a247b0a-d757-431e-b777-7edda02f6ec1",
   "metadata": {},
   "outputs": [],
   "source": [
    "import numpy as np"
   ]
  }
 ],
 "metadata": {
  "kernelspec": {
   "display_name": ".venv",
   "language": "python",
   "name": "python3"
  },
  "language_info": {
   "codemirror_mode": {
    "name": "ipython",
    "version": 3
   },
   "file_extension": ".py",
   "mimetype": "text/x-python",
   "name": "python",
   "nbconvert_exporter": "python",
   "pygments_lexer": "ipython3",
   "version": "3.12.9"
  }
 },
 "nbformat": 4,
 "nbformat_minor": 5
}
