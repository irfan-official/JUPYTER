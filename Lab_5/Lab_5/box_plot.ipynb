{
 "cells": [
  {
   "cell_type": "markdown",
   "id": "58afd064",
   "metadata": {},
   "source": [
    "# Box plot\n",
    "---"
   ]
  },
  {
   "cell_type": "code",
   "execution_count": 1,
   "id": "aacb9784",
   "metadata": {},
   "outputs": [],
   "source": [
    "import numpy as np\n",
    "import matplotlib.pyplot as plt"
   ]
  },
  {
   "cell_type": "markdown",
   "id": "04d6c1d3",
   "metadata": {},
   "source": [
    "#### 1. Dataset loads\n",
    "---"
   ]
  },
  {
   "cell_type": "code",
   "execution_count": 16,
   "id": "79e7b3b4",
   "metadata": {},
   "outputs": [],
   "source": [
    "data_set = [10, 12, 11, 15, 11, 14, 13, 17, 12, 22, 14, 11]\n",
    "# data_set = [22, 25, 17, 19, 33, 64, 23, 17, 20, 18]\n",
    "sorted_data = sorted(data_set)"
   ]
  },
  {
   "cell_type": "markdown",
   "id": "c94226ea",
   "metadata": {},
   "source": [
    "#### 2. find the Q1 Q2 Q3\n",
    "---"
   ]
  },
  {
   "cell_type": "code",
   "execution_count": 17,
   "id": "88987353",
   "metadata": {},
   "outputs": [],
   "source": [
    "# Calculate Q1, Q2, Q3\n",
    "Q1 = np.percentile(sorted_data, 25)\n",
    "Q2 = np.percentile(sorted_data, 50)\n",
    "Q3 = np.percentile(sorted_data, 75)"
   ]
  },
  {
   "cell_type": "markdown",
   "id": "7fa1d62a",
   "metadata": {},
   "source": [
    "#### 3. find the IQR, lower_bound and upper_bound\n",
    "---"
   ]
  },
  {
   "cell_type": "code",
   "execution_count": 18,
   "id": "8f3f41c4",
   "metadata": {},
   "outputs": [],
   "source": [
    "# Interquartile Range\n",
    "IQR = Q3 - Q1\n",
    "\n",
    "# Outlier bounds\n",
    "lower_bound = Q1 - 1.5 * IQR\n",
    "upper_bound = Q3 + 1.5 * IQR"
   ]
  },
  {
   "cell_type": "markdown",
   "id": "295e98fe",
   "metadata": {},
   "source": [
    "#### 4. find the outlier, min, max\n",
    "----"
   ]
  },
  {
   "cell_type": "code",
   "execution_count": 19,
   "id": "173e1620",
   "metadata": {},
   "outputs": [],
   "source": [
    "# Find outliers\n",
    "outliers = [x for x in sorted_data if x < lower_bound or x > upper_bound]\n",
    "\n",
    "# Min and Max (excluding outliers)\n",
    "non_outliers = [x for x in sorted_data if lower_bound <= x <= upper_bound]\n",
    "min_val = min(non_outliers)\n",
    "max_val = max(non_outliers)"
   ]
  },
  {
   "cell_type": "markdown",
   "id": "9dbe74dc",
   "metadata": {},
   "source": [
    "#### 5. printing the output\n",
    "---"
   ]
  },
  {
   "cell_type": "code",
   "execution_count": 21,
   "id": "b106d1c7",
   "metadata": {},
   "outputs": [
    {
     "name": "stdout",
     "output_type": "stream",
     "text": [
      "Q1 (25%): 11.0\n",
      "Q2 (50% - Median): 12.5\n",
      "Q3 (75%): 14.25\n",
      "IQR: 3.25\n",
      "Lower Bound: 6.125\n",
      "Upper Bound: 19.125\n",
      "Min (non-outlier): 10\n",
      "Max (non-outlier): 17\n",
      "Outliers: [22]\n"
     ]
    }
   ],
   "source": [
    "# Print results\n",
    "print(f\"Q1 (25%): {Q1}\")\n",
    "print(f\"Q2 (50% - Median): {Q2}\")\n",
    "print(f\"Q3 (75%): {Q3}\")\n",
    "print(f\"IQR: {IQR}\")\n",
    "print(f\"Lower Bound: {lower_bound}\")\n",
    "print(f\"Upper Bound: {upper_bound}\")\n",
    "print(f\"Min (non-outlier): {min_val}\")\n",
    "print(f\"Max (non-outlier): {max_val}\")\n",
    "print(f\"Outliers: {outliers}\")"
   ]
  },
  {
   "cell_type": "code",
   "execution_count": null,
   "id": "3dc134b9",
   "metadata": {},
   "outputs": [],
   "source": []
  },
  {
   "cell_type": "markdown",
   "id": "d20da1e3",
   "metadata": {},
   "source": [
    "#### 6. impliment the barplot\n",
    "---"
   ]
  },
  {
   "cell_type": "code",
   "execution_count": 22,
   "id": "478ce8a3",
   "metadata": {},
   "outputs": [
    {
     "data": {
      "image/png": "[encoded data removed]",
      "text/plain": [
       "<Figure size 640x480 with 1 Axes>"
      ]
     },
     "metadata": {},
     "output_type": "display_data"
    }
   ],
   "source": [
    "# Box Plot\n",
    "plt.boxplot(sorted_data, vert=False, patch_artist=True, boxprops=dict(facecolor='lightblue'))\n",
    "plt.title(\"Box Plot of Dataset\")\n",
    "plt.xlabel(\"Value\")\n",
    "plt.grid(True)\n",
    "plt.show()\n"
   ]
  }
 ],
 "metadata": {
  "kernelspec": {
   "display_name": "Python 3",
   "language": "python",
   "name": "python3"
  },
  "language_info": {
   "codemirror_mode": {
    "name": "ipython",
    "version": 3
   },
   "file_extension": ".py",
   "mimetype": "text/x-python",
   "name": "python",
   "nbconvert_exporter": "python",
   "pygments_lexer": "ipython3",
   "version": "3.12.10"
  }
 },
 "nbformat": 4,
 "nbformat_minor": 5
}
